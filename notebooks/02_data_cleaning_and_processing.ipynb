{
 "cells": [
  {
   "cell_type": "markdown",
   "id": "bea0d7bb",
   "metadata": {},
   "source": [
    "Limpiar y transformar los datos crudos descargados desde la API de binance para que todas las bars (time, tick, volume, dollar) parten de una fuetne coherente y estandarizada"
   ]
  },
  {
   "cell_type": "code",
   "execution_count": 105,
   "id": "dfc75ecd",
   "metadata": {},
   "outputs": [],
   "source": [
    "# imports \n",
    "import pandas as pd\n",
    "import numpy as np \n",
    "import os\n",
    "import matplotlib.pyplot as plt"
   ]
  },
  {
   "cell_type": "code",
   "execution_count": 106,
   "id": "841c148b",
   "metadata": {},
   "outputs": [
    {
     "data": {
      "text/html": [
       "<div>\n",
       "<style scoped>\n",
       "    .dataframe tbody tr th:only-of-type {\n",
       "        vertical-align: middle;\n",
       "    }\n",
       "\n",
       "    .dataframe tbody tr th {\n",
       "        vertical-align: top;\n",
       "    }\n",
       "\n",
       "    .dataframe thead th {\n",
       "        text-align: right;\n",
       "    }\n",
       "</style>\n",
       "<table border=\"1\" class=\"dataframe\">\n",
       "  <thead>\n",
       "    <tr style=\"text-align: right;\">\n",
       "      <th></th>\n",
       "      <th>open_time</th>\n",
       "      <th>open</th>\n",
       "      <th>high</th>\n",
       "      <th>low</th>\n",
       "      <th>close</th>\n",
       "      <th>volume</th>\n",
       "      <th>close_time</th>\n",
       "      <th>quote_volume</th>\n",
       "      <th>trades</th>\n",
       "      <th>taker_buy_base</th>\n",
       "      <th>taker_buy_quote</th>\n",
       "      <th>ignore</th>\n",
       "    </tr>\n",
       "  </thead>\n",
       "  <tbody>\n",
       "    <tr>\n",
       "      <th>0</th>\n",
       "      <td>2024-12-01 05:00:00</td>\n",
       "      <td>96515.51</td>\n",
       "      <td>96515.51</td>\n",
       "      <td>96473.18</td>\n",
       "      <td>96473.18</td>\n",
       "      <td>8.03059</td>\n",
       "      <td>2024-12-01 05:00:59.999</td>\n",
       "      <td>7.749735e+05</td>\n",
       "      <td>1842</td>\n",
       "      <td>2.96502</td>\n",
       "      <td>286150.354490</td>\n",
       "      <td>0</td>\n",
       "    </tr>\n",
       "    <tr>\n",
       "      <th>1</th>\n",
       "      <td>2024-12-01 05:01:00</td>\n",
       "      <td>96473.19</td>\n",
       "      <td>96473.19</td>\n",
       "      <td>96464.16</td>\n",
       "      <td>96464.97</td>\n",
       "      <td>2.51941</td>\n",
       "      <td>2024-12-01 05:01:59.999</td>\n",
       "      <td>2.430386e+05</td>\n",
       "      <td>1044</td>\n",
       "      <td>0.82286</td>\n",
       "      <td>79377.044051</td>\n",
       "      <td>0</td>\n",
       "    </tr>\n",
       "    <tr>\n",
       "      <th>2</th>\n",
       "      <td>2024-12-01 05:02:00</td>\n",
       "      <td>96464.97</td>\n",
       "      <td>96509.99</td>\n",
       "      <td>96425.70</td>\n",
       "      <td>96509.99</td>\n",
       "      <td>40.57111</td>\n",
       "      <td>2024-12-01 05:02:59.999</td>\n",
       "      <td>3.913119e+06</td>\n",
       "      <td>4030</td>\n",
       "      <td>9.65762</td>\n",
       "      <td>931709.380920</td>\n",
       "      <td>0</td>\n",
       "    </tr>\n",
       "    <tr>\n",
       "      <th>3</th>\n",
       "      <td>2024-12-01 05:03:00</td>\n",
       "      <td>96509.99</td>\n",
       "      <td>96510.00</td>\n",
       "      <td>96476.00</td>\n",
       "      <td>96480.00</td>\n",
       "      <td>6.33996</td>\n",
       "      <td>2024-12-01 05:03:59.999</td>\n",
       "      <td>6.118070e+05</td>\n",
       "      <td>2520</td>\n",
       "      <td>0.81025</td>\n",
       "      <td>78177.723577</td>\n",
       "      <td>0</td>\n",
       "    </tr>\n",
       "    <tr>\n",
       "      <th>4</th>\n",
       "      <td>2024-12-01 05:04:00</td>\n",
       "      <td>96480.01</td>\n",
       "      <td>96480.01</td>\n",
       "      <td>96472.00</td>\n",
       "      <td>96472.00</td>\n",
       "      <td>2.02027</td>\n",
       "      <td>2024-12-01 05:04:59.999</td>\n",
       "      <td>1.949119e+05</td>\n",
       "      <td>603</td>\n",
       "      <td>0.10671</td>\n",
       "      <td>10295.342507</td>\n",
       "      <td>0</td>\n",
       "    </tr>\n",
       "  </tbody>\n",
       "</table>\n",
       "</div>"
      ],
      "text/plain": [
       "             open_time      open      high       low     close    volume  \\\n",
       "0  2024-12-01 05:00:00  96515.51  96515.51  96473.18  96473.18   8.03059   \n",
       "1  2024-12-01 05:01:00  96473.19  96473.19  96464.16  96464.97   2.51941   \n",
       "2  2024-12-01 05:02:00  96464.97  96509.99  96425.70  96509.99  40.57111   \n",
       "3  2024-12-01 05:03:00  96509.99  96510.00  96476.00  96480.00   6.33996   \n",
       "4  2024-12-01 05:04:00  96480.01  96480.01  96472.00  96472.00   2.02027   \n",
       "\n",
       "                close_time  quote_volume  trades  taker_buy_base  \\\n",
       "0  2024-12-01 05:00:59.999  7.749735e+05    1842         2.96502   \n",
       "1  2024-12-01 05:01:59.999  2.430386e+05    1044         0.82286   \n",
       "2  2024-12-01 05:02:59.999  3.913119e+06    4030         9.65762   \n",
       "3  2024-12-01 05:03:59.999  6.118070e+05    2520         0.81025   \n",
       "4  2024-12-01 05:04:59.999  1.949119e+05     603         0.10671   \n",
       "\n",
       "   taker_buy_quote  ignore  \n",
       "0    286150.354490       0  \n",
       "1     79377.044051       0  \n",
       "2    931709.380920       0  \n",
       "3     78177.723577       0  \n",
       "4     10295.342507       0  "
      ]
     },
     "execution_count": 106,
     "metadata": {},
     "output_type": "execute_result"
    }
   ],
   "source": [
    "# load csv from /raw and clean it to /processed \n",
    "\n",
    "data = pd.read_csv('../data/raw/BTCUSDT_1m_2024-12-01_to_2025-01-01.csv')\n",
    "\n",
    "if not os.path.exists('../data/processed'):\n",
    "    os.makedirs('../data/processed')\n",
    "\n",
    "data.head()\n",
    "\n"
   ]
  },
  {
   "cell_type": "code",
   "execution_count": 107,
   "id": "4b305160",
   "metadata": {},
   "outputs": [
    {
     "name": "stdout",
     "output_type": "stream",
     "text": [
      "44641\n"
     ]
    },
    {
     "data": {
      "text/html": [
       "<div>\n",
       "<style scoped>\n",
       "    .dataframe tbody tr th:only-of-type {\n",
       "        vertical-align: middle;\n",
       "    }\n",
       "\n",
       "    .dataframe tbody tr th {\n",
       "        vertical-align: top;\n",
       "    }\n",
       "\n",
       "    .dataframe thead th {\n",
       "        text-align: right;\n",
       "    }\n",
       "</style>\n",
       "<table border=\"1\" class=\"dataframe\">\n",
       "  <thead>\n",
       "    <tr style=\"text-align: right;\">\n",
       "      <th></th>\n",
       "      <th>open_time</th>\n",
       "      <th>open</th>\n",
       "      <th>high</th>\n",
       "      <th>low</th>\n",
       "      <th>close</th>\n",
       "      <th>volume</th>\n",
       "      <th>close_time</th>\n",
       "      <th>quote_volume</th>\n",
       "      <th>trades</th>\n",
       "      <th>taker_buy_base</th>\n",
       "      <th>taker_buy_quote</th>\n",
       "      <th>ignore</th>\n",
       "    </tr>\n",
       "  </thead>\n",
       "  <tbody>\n",
       "    <tr>\n",
       "      <th>0</th>\n",
       "      <td>2024-12-01 05:00:00</td>\n",
       "      <td>96515.51</td>\n",
       "      <td>96515.51</td>\n",
       "      <td>96473.18</td>\n",
       "      <td>96473.18</td>\n",
       "      <td>8.03059</td>\n",
       "      <td>2024-12-01 05:00:59.999</td>\n",
       "      <td>7.749735e+05</td>\n",
       "      <td>1842</td>\n",
       "      <td>2.96502</td>\n",
       "      <td>286150.354490</td>\n",
       "      <td>0</td>\n",
       "    </tr>\n",
       "    <tr>\n",
       "      <th>1</th>\n",
       "      <td>2024-12-01 05:01:00</td>\n",
       "      <td>96473.19</td>\n",
       "      <td>96473.19</td>\n",
       "      <td>96464.16</td>\n",
       "      <td>96464.97</td>\n",
       "      <td>2.51941</td>\n",
       "      <td>2024-12-01 05:01:59.999</td>\n",
       "      <td>2.430386e+05</td>\n",
       "      <td>1044</td>\n",
       "      <td>0.82286</td>\n",
       "      <td>79377.044051</td>\n",
       "      <td>0</td>\n",
       "    </tr>\n",
       "    <tr>\n",
       "      <th>2</th>\n",
       "      <td>2024-12-01 05:02:00</td>\n",
       "      <td>96464.97</td>\n",
       "      <td>96509.99</td>\n",
       "      <td>96425.70</td>\n",
       "      <td>96509.99</td>\n",
       "      <td>40.57111</td>\n",
       "      <td>2024-12-01 05:02:59.999</td>\n",
       "      <td>3.913119e+06</td>\n",
       "      <td>4030</td>\n",
       "      <td>9.65762</td>\n",
       "      <td>931709.380920</td>\n",
       "      <td>0</td>\n",
       "    </tr>\n",
       "    <tr>\n",
       "      <th>3</th>\n",
       "      <td>2024-12-01 05:03:00</td>\n",
       "      <td>96509.99</td>\n",
       "      <td>96510.00</td>\n",
       "      <td>96476.00</td>\n",
       "      <td>96480.00</td>\n",
       "      <td>6.33996</td>\n",
       "      <td>2024-12-01 05:03:59.999</td>\n",
       "      <td>6.118070e+05</td>\n",
       "      <td>2520</td>\n",
       "      <td>0.81025</td>\n",
       "      <td>78177.723577</td>\n",
       "      <td>0</td>\n",
       "    </tr>\n",
       "    <tr>\n",
       "      <th>4</th>\n",
       "      <td>2024-12-01 05:04:00</td>\n",
       "      <td>96480.01</td>\n",
       "      <td>96480.01</td>\n",
       "      <td>96472.00</td>\n",
       "      <td>96472.00</td>\n",
       "      <td>2.02027</td>\n",
       "      <td>2024-12-01 05:04:59.999</td>\n",
       "      <td>1.949119e+05</td>\n",
       "      <td>603</td>\n",
       "      <td>0.10671</td>\n",
       "      <td>10295.342507</td>\n",
       "      <td>0</td>\n",
       "    </tr>\n",
       "  </tbody>\n",
       "</table>\n",
       "</div>"
      ],
      "text/plain": [
       "            open_time      open      high       low     close    volume  \\\n",
       "0 2024-12-01 05:00:00  96515.51  96515.51  96473.18  96473.18   8.03059   \n",
       "1 2024-12-01 05:01:00  96473.19  96473.19  96464.16  96464.97   2.51941   \n",
       "2 2024-12-01 05:02:00  96464.97  96509.99  96425.70  96509.99  40.57111   \n",
       "3 2024-12-01 05:03:00  96509.99  96510.00  96476.00  96480.00   6.33996   \n",
       "4 2024-12-01 05:04:00  96480.01  96480.01  96472.00  96472.00   2.02027   \n",
       "\n",
       "               close_time  quote_volume  trades  taker_buy_base  \\\n",
       "0 2024-12-01 05:00:59.999  7.749735e+05    1842         2.96502   \n",
       "1 2024-12-01 05:01:59.999  2.430386e+05    1044         0.82286   \n",
       "2 2024-12-01 05:02:59.999  3.913119e+06    4030         9.65762   \n",
       "3 2024-12-01 05:03:59.999  6.118070e+05    2520         0.81025   \n",
       "4 2024-12-01 05:04:59.999  1.949119e+05     603         0.10671   \n",
       "\n",
       "   taker_buy_quote  ignore  \n",
       "0    286150.354490       0  \n",
       "1     79377.044051       0  \n",
       "2    931709.380920       0  \n",
       "3     78177.723577       0  \n",
       "4     10295.342507       0  "
      ]
     },
     "execution_count": 107,
     "metadata": {},
     "output_type": "execute_result"
    }
   ],
   "source": [
    "print(len(data))\n",
    "# ensure the columns are numeric and times in datetime format\n",
    "\n",
    "# helper function to convert to datetime with error handling if the unit is not in milliseconds\n",
    "def safe_to_datetime(series):\n",
    "    try:\n",
    "        return pd.to_datetime(series, unit='ms')\n",
    "    except (ValueError, TypeError):\n",
    "        return pd.to_datetime(series, errors='coerce')\n",
    "\n",
    "data['open_time'] = safe_to_datetime(data['open_time'])\n",
    "data['close_time'] = safe_to_datetime(data['close_time'])\n",
    "data['open'] = pd.to_numeric(data['open'])\n",
    "data['high'] = pd.to_numeric(data['high'])\n",
    "data['low'] = pd.to_numeric(data['low'])\n",
    "data['close'] = pd.to_numeric(data['close'])\n",
    "data['volume'] = pd.to_numeric(data['volume'])\n",
    "data['quote_volume'] = pd.to_numeric(data['quote_volume'])\n",
    "data['trades'] = pd.to_numeric(data['trades'])\n",
    "\n",
    "data.head()"
   ]
  },
  {
   "cell_type": "code",
   "execution_count": 108,
   "id": "782958b7",
   "metadata": {},
   "outputs": [
    {
     "name": "stdout",
     "output_type": "stream",
     "text": [
      "44641\n",
      "data length after dropping duplicated times:  44641\n",
      "Empty DataFrame\n",
      "Columns: [open_time, open, high, low, close, volume, close_time, quote_volume, trades, taker_buy_base, taker_buy_quote, ignore, time_diff]\n",
      "Index: []\n"
     ]
    }
   ],
   "source": [
    "# drop duplicates\n",
    "data = data.drop_duplicates()\n",
    "# drop nulls \n",
    "data = data.dropna()\n",
    "\n",
    "# sort by open_time avoid misalignments\n",
    "data = data.sort_values(by='open_time').reset_index(drop=True)\n",
    "print(len(data))\n",
    "\n",
    "# delete duplicated times \n",
    "data = data.drop_duplicates(subset=['open_time'])\n",
    "print(\"data length after dropping duplicated times: \", len(data))\n",
    "\n",
    "# check for missing minutes\n",
    "data['time_diff'] = data['open_time'].diff().dt.total_seconds().div(60) # get data and \n",
    "missing_minutes = data[data['time_diff'] > 1]\n",
    "print(missing_minutes.head())\n",
    "\n",
    "# convert int64 to float64\n",
    "data['ignore'] = data['ignore'].astype('float64')\n",
    "data['trades'] = data['trades'].astype('float64')"
   ]
  },
  {
   "cell_type": "code",
   "execution_count": 109,
   "id": "0fc530c9",
   "metadata": {},
   "outputs": [],
   "source": [
    "# derivated data from the the columns \n",
    "\n",
    "data['mid_price'] = (data['high'] + data['low']) / 2\n",
    "data['return'] = data['close'].pct_change()"
   ]
  },
  {
   "cell_type": "code",
   "execution_count": 110,
   "id": "8ed831be",
   "metadata": {},
   "outputs": [
    {
     "name": "stdout",
     "output_type": "stream",
     "text": [
      "data length after dropping NaNs and infinities:  1\n"
     ]
    }
   ],
   "source": [
    "# delete NaNs or infinities\n",
    "len_data = len(data)\n",
    "data = data.replace([np.inf, -np.inf], np.nan).dropna()\n",
    "print(\"data length after dropping NaNs and infinities: \", len_data - len(data))"
   ]
  },
  {
   "cell_type": "code",
   "execution_count": 111,
   "id": "a463aa09",
   "metadata": {},
   "outputs": [
    {
     "name": "stdout",
     "output_type": "stream",
     "text": [
      "data length before dropping outliers:  44640\n"
     ]
    },
    {
     "data": {
      "image/png": "[encoded data removed]",
      "text/plain": [
       "<Figure size 1000x500 with 1 Axes>"
      ]
     },
     "metadata": {},
     "output_type": "display_data"
    },
    {
     "name": "stdout",
     "output_type": "stream",
     "text": [
      "data length after dropping outliers estabdar:  609\n",
      "data length after dropping outliers robust:  1326\n"
     ]
    }
   ],
   "source": [
    "# see the distribution of returns after removing outliers\n",
    "print(\"data length before dropping outliers: \", len(data))\n",
    "plt.figure(figsize=(10,5))\n",
    "plt.hist(data['return'], bins=100, alpha=0.6)\n",
    "plt.title(\"Distribución de retornos antes de eliminar outliers\")\n",
    "plt.show()\n",
    "\n",
    "# delete extreme outliers using z-score alternative method\n",
    "\n",
    "alternative_data = data.copy()\n",
    "alternative_len = len(alternative_data)\n",
    "alternative_data['z_score'] = (alternative_data['return'] - alternative_data['return'].mean()) / alternative_data['return'].std()\n",
    "alternative_data = alternative_data[(alternative_data['z_score'] < 3) & (alternative_data['z_score'] > -3)]\n",
    "print(\"data length after dropping outliers estabdar: \", alternative_len - len(alternative_data))\n",
    "\n",
    "# use more robust method using (median and MAD)\n",
    "median = data['return'].median()\n",
    "mad = np.median(np.abs(data['return'] - median))\n",
    "\n",
    "# calculate z-score more robust (based in MAD) \n",
    "data['z-score'] = 0.6745 * (data['return'] - median) / mad\n",
    "\n",
    "# delete extreme outliers (|z| > 3.5)\n",
    "data = data[np.abs(data['z-score']) < 3.5]\n",
    "print(\"data length after dropping outliers robust: \", len_data - len(data))\n",
    "\n",
    "# delete auxiliary columns\n",
    "data = data.drop(columns=['time_diff', 'z-score'])\n",
    "alternative_data = alternative_data.drop(columns=['time_diff', 'z_score'])"
   ]
  },
  {
   "cell_type": "code",
   "execution_count": 112,
   "id": "d5806f58",
   "metadata": {},
   "outputs": [
    {
     "name": "stdout",
     "output_type": "stream",
     "text": [
      "data length before dropping outliers:  43315\n"
     ]
    },
    {
     "data": {
      "image/png": "[encoded data removed]",
      "text/plain": [
       "<Figure size 1000x500 with 1 Axes>"
      ]
     },
     "metadata": {},
     "output_type": "display_data"
    },
    {
     "name": "stdout",
     "output_type": "stream",
     "text": [
      "data length after dropping outliers estabdar:  137\n",
      "data length after dropping outliers robust:  1503\n"
     ]
    }
   ],
   "source": [
    "# see the distribution of returns after removing outliers\n",
    "print(\"data length before dropping outliers: \", len(data))\n",
    "plt.figure(figsize=(10,5))\n",
    "plt.hist(data['return'], bins=100, alpha=0.6)\n",
    "plt.title(\"Distribución de retornos antes de eliminar outliers\")\n",
    "plt.show()\n",
    "\n",
    "original_data = data.copy()\n",
    "\n",
    "# delete extreme outliers using z-score alternative method\n",
    "\n",
    "alternative_data = data.copy()\n",
    "alternative_len = len(alternative_data)\n",
    "alternative_data['z_score'] = (alternative_data['return'] - alternative_data['return'].mean()) / alternative_data['return'].std()\n",
    "alternative_data = alternative_data[(alternative_data['z_score'] < 3) & (alternative_data['z_score'] > -3)]\n",
    "print(\"data length after dropping outliers estabdar: \", alternative_len - len(alternative_data))\n",
    "\n",
    "# use more robust method using (median and MAD)\n",
    "median = data['return'].median()\n",
    "mad = np.median(np.abs(data['return'] - median))\n",
    "\n",
    "# calculate z-score more robust (based in MAD) \n",
    "data['z-score'] = 0.6745 * (data['return'] - median) / mad\n",
    "\n",
    "# delete extreme outliers (|z| > 3.5)\n",
    "data = data[np.abs(data['z-score']) < 3.5]\n",
    "print(\"data length after dropping outliers robust: \", len_data - len(data))\n",
    "\n",
    "# delete auxiliary columns\n",
    "for col in ['z-score', 'time_diff']:\n",
    "    if col in alternative_data.columns:\n",
    "        alternative_data = alternative_data.drop(columns=[col])\n",
    "    if col in data.columns:\n",
    "        data = data.drop(columns=[col])\n"
   ]
  },
  {
   "cell_type": "code",
   "execution_count": 113,
   "id": "63fd6e06",
   "metadata": {},
   "outputs": [
    {
     "data": {
      "image/png": "[encoded data removed]",
      "text/plain": [
       "<Figure size 1000x500 with 1 Axes>"
      ]
     },
     "metadata": {},
     "output_type": "display_data"
    },
    {
     "data": {
      "image/png": "[encoded data removed]",
      "text/plain": [
       "<Figure size 1000x500 with 1 Axes>"
      ]
     },
     "metadata": {},
     "output_type": "display_data"
    }
   ],
   "source": [
    "\n",
    "\n",
    "# see distribution using more robust method\n",
    "plt.figure(figsize=(10,5))\n",
    "plt.hist(data['return'], bins=100, alpha=0.6)\n",
    "plt.title(\"Distribución de retornos después de eliminar outliers robust\")\n",
    "plt.show()\n",
    "\n",
    "# see the distribution of returns\n",
    "\n",
    "plt.figure(figsize=(10,5))\n",
    "plt.hist(alternative_data['return'], bins=100, alpha=0.6)\n",
    "plt.title(\"Distribución de retornos después de eliminar outliers estándar\")\n",
    "plt.show()"
   ]
  },
  {
   "cell_type": "code",
   "execution_count": 114,
   "id": "e2733610",
   "metadata": {},
   "outputs": [
    {
     "name": "stdout",
     "output_type": "stream",
     "text": [
      "Kurtosis before cleaning:  0.576397837883067\n",
      "Skewness before cleaning:  0.01992306275838764\n",
      "Kurtosis after cleaning robust:  0.4734568100453891\n",
      "Skewness after cleaning robust:  0.023887400396234496\n",
      "Kurtosis after cleaning standard:  0.4958978539778385\n",
      "Skewness after cleaning standard:  0.02274962032022814\n"
     ]
    }
   ],
   "source": [
    "# calculate kurtosis and skewness of returns before and after cleaning\n",
    "from scipy.stats import kurtosis, skew \n",
    "print(\"Kurtosis before cleaning: \", kurtosis(original_data['return'], fisher=True, bias=False))\n",
    "print(\"Skewness before cleaning: \", skew(original_data['return'], bias=False))\n",
    "print(\"Kurtosis after cleaning robust: \", kurtosis(data['return'], fisher=True, bias=False))\n",
    "print(\"Skewness after cleaning robust: \", skew(data['return'], bias=False))\n",
    "print(\"Kurtosis after cleaning standard: \", kurtosis(alternative_data['return'], fisher=True, bias=False))\n",
    "print(\"Skewness after cleaning standard: \", skew(alternative_data['return'], bias=False))\n"
   ]
  },
  {
   "cell_type": "code",
   "execution_count": 115,
   "id": "6ae3275e",
   "metadata": {},
   "outputs": [],
   "source": [
    "# save robust data in csv /processed \n",
    "data.to_csv('../data/processed/BTCUSDT_1m_2024-12-01_to_2025-01-01_cleaned_robust.csv', index=False)"
   ]
  },
  {
   "cell_type": "code",
   "execution_count": null,
   "id": "53b1de49",
   "metadata": {},
   "outputs": [],
   "source": []
  }
 ],
 "metadata": {
  "kernelspec": {
   "display_name": "Python 3",
   "language": "python",
   "name": "python3"
  },
  "language_info": {
   "codemirror_mode": {
    "name": "ipython",
    "version": 3
   },
   "file_extension": ".py",
   "mimetype": "text/x-python",
   "name": "python",
   "nbconvert_exporter": "python",
   "pygments_lexer": "ipython3",
   "version": "3.13.7"
  }
 },
 "nbformat": 4,
 "nbformat_minor": 5
}
