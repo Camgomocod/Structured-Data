{
 "cells": [
  {
   "cell_type": "markdown",
   "id": "d393b46f",
   "metadata": {},
   "source": [
    "### 01-Data acquisition\n",
    "- Conectar a una API (Binance) y descargar los trades históricos (btc/usdt)\n",
    "- Conceptos: \n",
    "    - Diferencias entre datos OHLCV vs. raw trades.\n",
    "    - Consideraciones de tiempo (UTC vs local) \n",
    "- Output: dataset en formato CSV, con columnas míminas (timestamp, price, quantity)"
   ]
  },
  {
   "cell_type": "code",
   "execution_count": 1,
   "id": "9fb6a2fc",
   "metadata": {},
   "outputs": [],
   "source": [
    "# librerias \n",
    "\n",
    "import pandas as pd\n",
    "import requests \n",
    "import time \n",
    "from datetime import datetime, timedelta\n",
    "from coinbase.rest import RESTClient"
   ]
  },
  {
   "cell_type": "code",
   "execution_count": 2,
   "id": "e1fce58e",
   "metadata": {},
   "outputs": [],
   "source": [
    "symbol = \"BTCUSDT\"          # Par a descargar\n",
    "interval = \"1m\"             # Intervalo (1m, 5m, 15m, 1h, 1d, etc.)\n",
    "limit = 1000                # Máximo por request (Binance API limit)\n",
    "start_date = \"2024-12-01\"   # Fecha inicial\n",
    "end_date = \"2025-01-01\"     # Fecha final"
   ]
  },
  {
   "cell_type": "code",
   "execution_count": 3,
   "id": "b1e4ff1d",
   "metadata": {},
   "outputs": [],
   "source": [
    "# Convertir fechas a milisegundos\n",
    "def date_to_millis(date_str):\n",
    "    return int(datetime.strptime(date_str, \"%Y-%m-%d\").timestamp() * 1000)\n",
    "\n",
    "start_ts = date_to_millis(start_date)\n",
    "end_ts = date_to_millis(end_date)"
   ]
  },
  {
   "cell_type": "code",
   "execution_count": 5,
   "id": "23edc2f6",
   "metadata": {},
   "outputs": [],
   "source": [
    "# función para descargar las velas \n",
    "\n",
    "def get_klines(symbol, interval, start_ts, end_ts, limit=1000):\n",
    "    url = \"https://api.binance.com/api/v3/klines\"\n",
    "    all_klines = []\n",
    "    \n",
    "    while start_ts < end_ts:\n",
    "        params = {\n",
    "            \"symbol\": symbol,\n",
    "            \"interval\": interval,\n",
    "            \"startTime\": start_ts,\n",
    "            \"endTime\": end_ts,\n",
    "            \"limit\": limit\n",
    "        }\n",
    "        \n",
    "        response = requests.get(url, params=params)\n",
    "        data = response.json()\n",
    "        \n",
    "        if not data:\n",
    "            break\n",
    "        \n",
    "        all_klines.extend(data)\n",
    "        \n",
    "        # Actualizar el start_ts para la siguiente iteración\n",
    "        start_ts = data[-1][0] + 1  # +1 para evitar duplicados\n",
    "        \n",
    "        # Esperar para respetar el rate limit\n",
    "        time.sleep(0.5)\n",
    "    \n",
    "    return all_klines"
   ]
  },
  {
   "cell_type": "code",
   "execution_count": 7,
   "id": "383fb7f7",
   "metadata": {},
   "outputs": [
    {
     "name": "stdout",
     "output_type": "stream",
     "text": [
      "Descargando datos...\n",
      "Datos descargados y procesados.\n",
      "            open_time      open      high       low     close    volume  \\\n",
      "0 2024-12-01 05:00:00  96515.51  96515.51  96473.18  96473.18   8.03059   \n",
      "1 2024-12-01 05:01:00  96473.19  96473.19  96464.16  96464.97   2.51941   \n",
      "2 2024-12-01 05:02:00  96464.97  96509.99  96425.70  96509.99  40.57111   \n",
      "3 2024-12-01 05:03:00  96509.99  96510.00  96476.00  96480.00   6.33996   \n",
      "4 2024-12-01 05:04:00  96480.01  96480.01  96472.00  96472.00   2.02027   \n",
      "\n",
      "               close_time      quote_volume  trades taker_buy_base  \\\n",
      "0 2024-12-01 05:00:59.999   774973.50276870    1842     2.96502000   \n",
      "1 2024-12-01 05:01:59.999   243038.60539120    1044     0.82286000   \n",
      "2 2024-12-01 05:02:59.999  3913119.03978170    4030     9.65762000   \n",
      "3 2024-12-01 05:03:59.999   611806.98451080    2520     0.81025000   \n",
      "4 2024-12-01 05:04:59.999   194911.89910400     603     0.10671000   \n",
      "\n",
      "   taker_buy_quote ignore  \n",
      "0  286150.35448990      0  \n",
      "1   79377.04405080      0  \n",
      "2  931709.38092040      0  \n",
      "3   78177.72357680      0  \n",
      "4   10295.34250710      0  \n"
     ]
    }
   ],
   "source": [
    "# descargar y conversión a dataframe\n",
    "print(\"Descargando datos...\")\n",
    "\n",
    "data = get_klines(symbol, interval, start_ts, end_ts, limit)\n",
    "df = pd.DataFrame(data, columns=[\n",
    "    \"open_time\", \"open\", \"high\", \"low\", \"close\", \"volume\",\n",
    "    \"close_time\", \"quote_volume\", \"trades\",\n",
    "    \"taker_buy_base\", \"taker_buy_quote\", \"ignore\"\n",
    "])\n",
    "\n",
    "# conversión de tipos \n",
    "df[\"open_time\"] = pd.to_datetime(df[\"open_time\"], unit='ms')\n",
    "df[\"close_time\"] = pd.to_datetime(df[\"close_time\"], unit='ms')\n",
    "numeric_cols = [\"open\", \"high\", \"low\", \"close\", \"volume\"]\n",
    "df[numeric_cols] = df[numeric_cols].astype(float)\n",
    "\n",
    "print(\"Datos descargados y procesados.\")\n",
    "print(df.head())\n",
    "\n",
    "# guardar a CSV\n",
    "# definir directorio\n",
    "output_dir = \"../data/raw/\"\n",
    "output_file = f\"{output_dir}{symbol}_{interval}_{start_date}_to_{end_date}.csv\"\n",
    "df.to_csv(output_file, index=False)\n",
    "\n"
   ]
  },
  {
   "cell_type": "code",
   "execution_count": null,
   "id": "b3d4de45",
   "metadata": {},
   "outputs": [],
   "source": []
  }
 ],
 "metadata": {
  "kernelspec": {
   "display_name": "Python 3",
   "language": "python",
   "name": "python3"
  },
  "language_info": {
   "codemirror_mode": {
    "name": "ipython",
    "version": 3
   },
   "file_extension": ".py",
   "mimetype": "text/x-python",
   "name": "python",
   "nbconvert_exporter": "python",
   "pygments_lexer": "ipython3",
   "version": "3.13.7"
  }
 },
 "nbformat": 4,
 "nbformat_minor": 5
}
